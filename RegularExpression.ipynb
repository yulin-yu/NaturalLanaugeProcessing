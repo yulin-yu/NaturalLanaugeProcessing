{
 "cells": [
  {
   "cell_type": "code",
   "execution_count": 99,
   "metadata": {},
   "outputs": [],
   "source": [
    "import re\n",
    "import pandas as pd"
   ]
  },
  {
   "cell_type": "code",
   "execution_count": 101,
   "metadata": {},
   "outputs": [
    {
     "data": {
      "text/html": [
       "<div>\n",
       "<style scoped>\n",
       "    .dataframe tbody tr th:only-of-type {\n",
       "        vertical-align: middle;\n",
       "    }\n",
       "\n",
       "    .dataframe tbody tr th {\n",
       "        vertical-align: top;\n",
       "    }\n",
       "\n",
       "    .dataframe thead th {\n",
       "        text-align: right;\n",
       "    }\n",
       "</style>\n",
       "<table border=\"1\" class=\"dataframe\">\n",
       "  <thead>\n",
       "    <tr style=\"text-align: right;\">\n",
       "      <th></th>\n",
       "      <th>html</th>\n",
       "      <th>email</th>\n",
       "    </tr>\n",
       "  </thead>\n",
       "  <tbody>\n",
       "    <tr>\n",
       "      <th>0</th>\n",
       "      <td>&lt;html&gt;&lt;head&gt;&lt;/head&gt;&lt;body&gt;&lt;p&gt;prosthesis work zo...</td>\n",
       "      <td>NaN</td>\n",
       "    </tr>\n",
       "    <tr>\n",
       "      <th>1</th>\n",
       "      <td>&lt;html&gt;&lt;head&gt;&lt;/head&gt;&lt;body&gt;&lt;p&gt;heavily remtech_as...</td>\n",
       "      <td>NaN</td>\n",
       "    </tr>\n",
       "    <tr>\n",
       "      <th>2</th>\n",
       "      <td>&lt;html&gt;&lt;head&gt;&lt;/head&gt;&lt;body&gt;&lt;p&gt;sometimes you your...</td>\n",
       "      <td>NaN</td>\n",
       "    </tr>\n",
       "    <tr>\n",
       "      <th>3</th>\n",
       "      <td>&lt;html&gt;&lt;head&gt;&lt;/head&gt;&lt;body&gt;&lt;p&gt;key with your user...</td>\n",
       "      <td>NaN</td>\n",
       "    </tr>\n",
       "    <tr>\n",
       "      <th>4</th>\n",
       "      <td>&lt;html&gt;&lt;head&gt;&lt;/head&gt;&lt;body&gt;&lt;p&gt;ethicists would @ ...</td>\n",
       "      <td>NaN</td>\n",
       "    </tr>\n",
       "  </tbody>\n",
       "</table>\n",
       "</div>"
      ],
      "text/plain": [
       "                                                html  email\n",
       "0  <html><head></head><body><p>prosthesis work zo...    NaN\n",
       "1  <html><head></head><body><p>heavily remtech_as...    NaN\n",
       "2  <html><head></head><body><p>sometimes you your...    NaN\n",
       "3  <html><head></head><body><p>key with your user...    NaN\n",
       "4  <html><head></head><body><p>ethicists would @ ...    NaN"
      ]
     },
     "execution_count": 101,
     "metadata": {},
     "output_type": "execute_result"
    }
   ],
   "source": [
    "df = pd.read_csv('webpages.csv')"
   ]
  },
  {
   "cell_type": "code",
   "execution_count": 116,
   "metadata": {},
   "outputs": [],
   "source": [
    "pattern1 = r\"(\\w+(\\.\\w+)*@\\w+(\\.\\w+)*\\.[a-zA-Z]{2,4})|(\\w+(\\.\\w+)*(\\s)*@+(\\s)*\\w+(\\.\\w+)*(\\s)*\\.(\\s)*[a-zA-Z]{2,4})|(\\w+(\\.\\w+)*(\\s)*\\[at\\](\\s)*\\w*(\\.\\w+)*(\\s)*\\[dot\\](\\s)*[a-zA-Z]{2,4})|(\\w+(\\.\\w+)*(\\s)*\\/at\\/(\\s)*\\w*(\\.\\w+)*(\\s)*\\/dot\\/(\\s)*[a-zA-Z]{2,4})|(\\w+(\\.\\w+)*(\\s)*at(\\s)*\\w*(\\.\\w+)*(\\s)*dot(\\s)*[a-zA-Z]{2,4})|(\\w+(\\.\\w+)*(\\s)*@+((\\s)@)*(\\s)*\\w+(\\.\\w+)*(\\s)*\\.(\\s)*[a-zA-Z]{2,4})|([!,#,$,%,&,+,=,{,},?]@\\w+(\\.\\w+)*\\.[a-zA-Z]{2,4})|([!,#,$,%,&,+,=,{,},?,^,',<,>](\\s)*\\[at\\](\\s)*\\w+(\\s)*\\w*(\\s)*\\[dot\\](\\s)*[a-zA-Z]{2,4})|([!,#,$,%,&,+,=,{,},?,^,'](\\s)*\\/at\\/(\\s)*\\w+(\\s)*\\w*(\\s)*\\/dot\\/(\\s)*[a-zA-Z]{2,4})\"\n",
    "\n",
    "\n",
    "\n",
    "#([!,#,$,%,&,+,=,{,},?,^,']*(\\s)*\\[at\\](\\s)*\\w+(\\s)*\\w*(\\s)*\\[dot\\](\\s)*[a-zA-Z]{2,4})\n",
    "#([!,#,$,%,&,+,=,{,},?,^,']*(\\s)*\\/at\\/(\\s)*\\w+(\\s)*\\w*(\\s)*\\/dot\\/(\\s)*[a-zA-Z]{2,4})\n",
    "#(\\w+(\\.\\w+)*(\\s)*@(\\s)*\\|@(\\s)*\\w+(\\.\\w+)*(\\s)*\\.(\\s)*[a-zA-Z]{2,4})|(\\w+(\\.\\w+)*(\\s)*at(\\s)*\\w*(\\.\\w+)*(\\s)*dot(\\s)*[a-zA-Z]{2,4})|(\\w+(\\.\\w+)*(\\s)*@+((\\s)@)*(\\s)*\\w+(\\.\\w+)*(\\s)*\\.(\\s)*[a-zA-Z]{2,4})|([!,#,$,%,&,+,=,{,},?]@\\w+(\\.\\w+)*\\.[a-zA-Z]{2,4})'\n",
    "#pattern2 = r'(\\w+(\\.\\w+)*(\\s)*\\[at\\](\\s)*\\w*(\\.\\w+)*(\\s)*\\[dot\\](\\s)*[a-zA-Z]{2,4})'\n",
    "#pattern3 = r'(\\w+(\\.\\w+)*(\\s)*\\/at\\/(\\s)*\\w*(\\.\\w+)*(\\s)*\\/dot\\/(\\s)*[a-zA-Z]{2,4})'\n",
    "#pattern4 = r'(\\w+(\\.\\w+)*(\\s)*@(\\s)*\\|@(\\s)*\\w+(\\.\\w+)*(\\s)*\\.(\\s)*[a-zA-Z]{2,4})'\n",
    "\n",
    "def email(text):\n",
    "        try:\n",
    "            find = re.findall(pattern1,text)\n",
    "            #find1 = re.findall(pattern2,text)\n",
    "            #find2 = re.findall(pattern3,text)\n",
    "            #find3 = re.findall(pattern4,text)\n",
    "            a = [x for x in set(find[0]) if len(x) > 4]\n",
    "            b = sorted(a, key = len, reverse = True)\n",
    "            return b[0]\n",
    "            #if len(find[0][0])>4:\n",
    "                #return find[0][0]\n",
    "            #if len(find1[0][0])>4:\n",
    "                #return find1[0][0]            \n",
    "            #if len(find2[0][0])>4:\n",
    "                #return find2[0][0]\n",
    "            #if len(find3[0][0])>4:\n",
    "                #return find3[0][0]             \n",
    "            \n",
    "        except:\n",
    "            return \"None\"\n",
    "        \n",
    "        "
   ]
  },
  {
   "cell_type": "code",
   "execution_count": 117,
   "metadata": {},
   "outputs": [],
   "source": [
    "df['formemail'] = df['html'].apply(email)"
   ]
  },
  {
   "cell_type": "code",
   "execution_count": 118,
   "metadata": {},
   "outputs": [],
   "source": [
    "def change(email):\n",
    "    d = email.replace(\"[at]\",'@').replace(\"/at/\",'@').replace(\"[dot]\",'.').replace(\"/dot/\",'.').replace(\" at \",'@').replace(\" dot \",'.').replace(\" \",'')\n",
    "    d1 = d.split('@')\n",
    "    d2 = [x for x in d1 if x]\n",
    "    r = '@'.join(d2)\n",
    "    return r\n"
   ]
  },
  {
   "cell_type": "code",
   "execution_count": 119,
   "metadata": {},
   "outputs": [],
   "source": [
    "df['email'] = df['formemail'].apply(change)"
   ]
  },
  {
   "cell_type": "code",
   "execution_count": 120,
   "metadata": {},
   "outputs": [],
   "source": [
    "af = df.drop(columns = ['formemail'])\n",
    "af.to_csv('email-outputs.csv',index = False)"
   ]
  },
  {
   "cell_type": "code",
   "execution_count": null,
   "metadata": {},
   "outputs": [],
   "source": []
  }
 ],
 "metadata": {
  "kernelspec": {
   "display_name": "Python 3",
   "language": "python",
   "name": "python3"
  },
  "language_info": {
   "codemirror_mode": {
    "name": "ipython",
    "version": 3
   },
   "file_extension": ".py",
   "mimetype": "text/x-python",
   "name": "python",
   "nbconvert_exporter": "python",
   "pygments_lexer": "ipython3",
   "version": "3.7.2"
  }
 },
 "nbformat": 4,
 "nbformat_minor": 2
}
